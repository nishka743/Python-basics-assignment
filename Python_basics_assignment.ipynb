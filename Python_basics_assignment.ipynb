{
  "nbformat": 4,
  "nbformat_minor": 0,
  "metadata": {
    "colab": {
      "provenance": []
    },
    "kernelspec": {
      "name": "python3",
      "display_name": "Python 3"
    },
    "language_info": {
      "name": "python"
    }
  },
  "cells": [
    {
      "cell_type": "markdown",
      "source": [
        "PYTHON BASICS THEORY QUESTIONS\n",
        "\n",
        "1. What is Python, and why is it popular?\n",
        "\n",
        " -.Python is a high-level, interpreted programming language known for its simple syntax and readability. It's popular, has a large community, and offers many libraries.\n",
        "\n",
        "2. What is an interpreter in Python?\n",
        "\n",
        "  -> An interpreter in Python reads and executes code line by line, converting Python code into machine-understandable instructions at runtime.\n",
        "\n",
        "3. What are pre-defined keywords in Python?\n",
        "\n",
        "   -> Pre-defined keywords are reserved words in Python that have special meanings, like if, for, while, True, and None.\n",
        "\n",
        "4.  Can keywords be used as variable names?\n",
        "\n",
        "   -> No, keywords cannot be used as variable names because they have predefined roles in the language.\n",
        "\n",
        "5. What is mutability in Python?\n",
        "\n",
        "  ->  Mutability refers to whether an object’s content can be changed after it's created. Mutable objects can be changed; immutable objects cannot.\n",
        "\n",
        "6. Why are lists mutable, but tuples are immutable?\n",
        "\n",
        "  ->  Lists are designed for dynamic data where elements might change, so they're mutable. Tuples are used for fixed data structures and are immutable to ensure data integrity and optimize performance.\n",
        "\n",
        "7. What is the difference between == and is operators in Python?\n",
        "\n",
        "   ->  == checks if two objects have the same value.\n",
        "      is checks if two references point to the same object in memory.\n",
        "\n",
        "8. What are logical operators in Python?\n",
        "\n",
        "   -> Logical operators combine conditional statements:\n",
        "\n",
        "      and (both conditions must be true)\n",
        "\n",
        "     or (at least one condition must be true)\n",
        "\n",
        "      not (inverts the condition).\n",
        "\n",
        "9. What is type casting in Python?\n",
        "\n",
        "   -> Type casting is converting a variable from one data type to another, like from int to float.  \n",
        "\n",
        "10. What is the difference between implicit and explicit type casting?\n",
        "\n",
        "   -> Implicit casting happens automatically e.g., int to float in mixed operations.\n",
        "\n",
        "    Explicit casting is done manually using functions like int(), float(), etc.\n",
        "\n",
        "11. What is the purpose of conditional statements in Python?\n",
        "\n",
        "   -> Conditional statements (like if, else) let programs make decisions and execute certain code blocks based on conditions.\n",
        "\n",
        "12. How does the elif statement work?\n",
        "\n",
        "    -> elif allows checking multiple conditions after an initial if. If the if is false, Python checks each elif in order until one is true.\n",
        "\n",
        "13. What is the difference between for and while loops?\n",
        "\n",
        "   -> For loops iterate over a sequence (like a list or range) a specific number of times.while loops continue running as long as a condition remains true.\n",
        "\n",
        "14. Describe a scenario where a while loop is more suitable than a for loop.\n",
        "\n",
        "   -> A while loop is better when you don't know in advance how many times you'll loop—e.g., waiting for user input to meet a condition: keep asking until they enter a valid password.\n"
      ],
      "metadata": {
        "id": "mbNlxgTp-9DE"
      }
    },
    {
      "cell_type": "markdown",
      "source": [
        "# PRATICAL QUESTIONS PYTHON BASICS"
      ],
      "metadata": {
        "id": "UBovUSHKKwxo"
      }
    },
    {
      "cell_type": "markdown",
      "source": [
        "1. Print \"Hello, World!\""
      ],
      "metadata": {
        "id": "tEYugha3K8oh"
      }
    },
    {
      "cell_type": "code",
      "source": [
        "print(\"Hello, World!\")\n"
      ],
      "metadata": {
        "colab": {
          "base_uri": "https://localhost:8080/"
        },
        "id": "tttiQUwrKkov",
        "outputId": "c1cc50c9-64ff-478e-c9cb-157e208454eb"
      },
      "execution_count": null,
      "outputs": [
        {
          "output_type": "stream",
          "name": "stdout",
          "text": [
            "Hello, World!\n"
          ]
        }
      ]
    },
    {
      "cell_type": "markdown",
      "source": [
        "2. Display your name and age"
      ],
      "metadata": {
        "id": "QTQ3UnmQLDQj"
      }
    },
    {
      "cell_type": "code",
      "source": [
        "name = \"Nishka Bajaj\"\n",
        "age = 21\n",
        "print(\"Name:\", name)\n",
        "print(\"Age:\", age)\n"
      ],
      "metadata": {
        "colab": {
          "base_uri": "https://localhost:8080/"
        },
        "id": "w7odzn0NLMd6",
        "outputId": "db0effe9-b064-4967-e9e0-0679d6bee31f"
      },
      "execution_count": null,
      "outputs": [
        {
          "output_type": "stream",
          "name": "stdout",
          "text": [
            "Name: Nishka Bajaj\n",
            "Age: 21\n"
          ]
        }
      ]
    },
    {
      "cell_type": "markdown",
      "source": [
        "3. Print all pre-defined keywords using the keyword library"
      ],
      "metadata": {
        "id": "NSzqLiAeMIlY"
      }
    },
    {
      "cell_type": "code",
      "source": [
        "help(\"keywords\")\n"
      ],
      "metadata": {
        "colab": {
          "base_uri": "https://localhost:8080/"
        },
        "id": "DW5RTehjMUO-",
        "outputId": "76618ac2-1dce-4679-907b-610094c35aae"
      },
      "execution_count": null,
      "outputs": [
        {
          "output_type": "stream",
          "name": "stdout",
          "text": [
            "\n",
            "Here is a list of the Python keywords.  Enter any keyword to get more help.\n",
            "\n",
            "False               class               from                or\n",
            "None                continue            global              pass\n",
            "True                def                 if                  raise\n",
            "and                 del                 import              return\n",
            "as                  elif                in                  try\n",
            "assert              else                is                  while\n",
            "async               except              lambda              with\n",
            "await               finally             nonlocal            yield\n",
            "break               for                 not                 \n",
            "\n"
          ]
        }
      ]
    },
    {
      "cell_type": "markdown",
      "source": [
        "4. Check if a word is a Python keyword"
      ],
      "metadata": {
        "id": "nMXYgWY6OEpj"
      }
    },
    {
      "cell_type": "code",
      "source": [
        "import keyword\n",
        "\n",
        "word = \"Hello\"\n",
        "\n",
        "if keyword.iskeyword(word):\n",
        "    print(f\"{word} is a Python keyword.\")\n",
        "else:\n",
        "    print(f\"{word} is not a Python keyword.\")\n"
      ],
      "metadata": {
        "colab": {
          "base_uri": "https://localhost:8080/"
        },
        "id": "WDp8PKm3OO0P",
        "outputId": "a542afa9-840a-4336-9760-091a6fbc26fa"
      },
      "execution_count": null,
      "outputs": [
        {
          "output_type": "stream",
          "name": "stdout",
          "text": [
            "Hello is not a Python keyword.\n"
          ]
        }
      ]
    },
    {
      "cell_type": "markdown",
      "source": [
        "5. Function to demonstrate mutable and immutable arguments"
      ],
      "metadata": {
        "id": "YhScAF_MYH-q"
      }
    },
    {
      "cell_type": "code",
      "source": [
        "def modify_data(a_list, a_number):\n",
        "    a_list.append(4)\n",
        "    a_number += 10\n",
        "    print(\"Inside function - list:\", a_list)\n",
        "    print(\"Inside function - number:\", a_number)\n",
        "\n",
        "my_list = [1, 2, 3]\n",
        "my_number = 5\n",
        "\n",
        "modify_data(my_list, my_number)\n",
        "print(\"Outside function - list:\", my_list)\n",
        "print(\"Outside function - number:\", my_number)\n"
      ],
      "metadata": {
        "colab": {
          "base_uri": "https://localhost:8080/"
        },
        "id": "rbKkAAvyYTgK",
        "outputId": "49f9f7da-72ee-4f8e-84ee-0ab60ccbc14d"
      },
      "execution_count": null,
      "outputs": [
        {
          "output_type": "stream",
          "name": "stdout",
          "text": [
            "Inside function - list: [1, 2, 3, 4]\n",
            "Inside function - number: 15\n",
            "Outside function - list: [1, 2, 3, 4]\n",
            "Outside function - number: 5\n"
          ]
        }
      ]
    },
    {
      "cell_type": "markdown",
      "source": [
        " 6. Basic arithmetic operations on two user-input numbers"
      ],
      "metadata": {
        "id": "gXaRQmRpYlp_"
      }
    },
    {
      "cell_type": "code",
      "source": [
        "num1 = 1\n",
        "num2 = 10\n",
        "\n",
        "print(\"Addition:\", num1 + num2)\n",
        "print(\"Subtraction:\", num1 - num2)\n",
        "print(\"Multiplication:\", num1 * num2)\n",
        "print(\"Division:\", num1 / num2 if num2 != 0 else \"Cannot divide by zero\")\n"
      ],
      "metadata": {
        "colab": {
          "base_uri": "https://localhost:8080/"
        },
        "id": "Ic8TKSHGYvka",
        "outputId": "a22ab223-9454-469e-e6dd-6e9f7a46cc75"
      },
      "execution_count": null,
      "outputs": [
        {
          "output_type": "stream",
          "name": "stdout",
          "text": [
            "Addition: 11\n",
            "Subtraction: -9\n",
            "Multiplication: 10\n",
            "Division: 0.1\n"
          ]
        }
      ]
    },
    {
      "cell_type": "markdown",
      "source": [
        "7.  Demonstrate logical operator"
      ],
      "metadata": {
        "id": "7vwp26C_aJni"
      }
    },
    {
      "cell_type": "code",
      "source": [
        "a = True\n",
        "b = False\n",
        "\n",
        "  print(\"a and b:\", a and b)\n",
        "  print(\"a or b:\", a or b)\n",
        "  print(\"not a:\", not a)\n"
      ],
      "metadata": {
        "colab": {
          "base_uri": "https://localhost:8080/"
        },
        "id": "dFVBlo2FaSnY",
        "outputId": "da742f52-f654-4d48-8a73-ca16f28de6a5"
      },
      "execution_count": null,
      "outputs": [
        {
          "output_type": "stream",
          "name": "stdout",
          "text": [
            "a and b: False\n",
            "a or b: True\n",
            "not a: False\n"
          ]
        }
      ]
    },
    {
      "cell_type": "markdown",
      "source": [
        "8. List and tuple mutability demonstration"
      ],
      "metadata": {
        "id": "T3GtkRkLav-v"
      }
    },
    {
      "cell_type": "code",
      "source": [
        "my_list = [1, 2, 3]\n",
        "my_tuple = (1, 2, 3)\n",
        "\n",
        "# Modifying list\n",
        "my_list[0] = 10\n",
        "print(\"Modified list:\", my_list)\n",
        "\n",
        "# Modifying tuple (will raise error)\n",
        "try:\n",
        "    my_tuple[0] = 10\n",
        "except TypeError as e:\n",
        "    print(\"Error when modifying tuple:\", e)\n"
      ],
      "metadata": {
        "colab": {
          "base_uri": "https://localhost:8080/"
        },
        "id": "Rgo0vmQxay30",
        "outputId": "5551134a-ceea-436f-d6a8-cb476d3816a2"
      },
      "execution_count": null,
      "outputs": [
        {
          "output_type": "stream",
          "name": "stdout",
          "text": [
            "Modified list: [10, 2, 3]\n",
            "Error when modifying tuple: 'tuple' object does not support item assignment\n"
          ]
        }
      ]
    },
    {
      "cell_type": "markdown",
      "source": [
        "9. Convert user input to integer, float, and boolean"
      ],
      "metadata": {
        "id": "273gPi5pcZR4"
      }
    },
    {
      "cell_type": "code",
      "source": [
        "user_input = \"10\"  # Using a value from 1 to 10\n",
        "\n",
        "int_value = int(user_input)\n",
        "float_value = float(user_input)\n",
        "bool_value = bool(user_input)\n",
        "\n",
        "print(\"Integer:\", int_value)\n",
        "print(\"Float:\", float_value)\n",
        "print(\"Boolean:\", bool_value)\n"
      ],
      "metadata": {
        "colab": {
          "base_uri": "https://localhost:8080/"
        },
        "id": "P3XELiSPcjMD",
        "outputId": "aa355742-7656-438e-e18d-57055cc04246"
      },
      "execution_count": null,
      "outputs": [
        {
          "output_type": "stream",
          "name": "stdout",
          "text": [
            "Integer: 10\n",
            "Float: 10.0\n",
            "Boolean: True\n"
          ]
        }
      ]
    },
    {
      "cell_type": "markdown",
      "source": [
        "10.  Type casting with list elements"
      ],
      "metadata": {
        "id": "2z2W4hvimo1M"
      }
    },
    {
      "cell_type": "code",
      "source": [
        "my_list = [\"1\", \"2\", \"3\"]\n",
        "int_list = [int(x) for x in my_list]\n",
        "  print(\"Original list:\", my_list)\n",
        "  print(\"List after type casting:\", int_list)\n"
      ],
      "metadata": {
        "colab": {
          "base_uri": "https://localhost:8080/"
        },
        "id": "RLJ-Nu8Oms1S",
        "outputId": "5071c4b4-adeb-4671-82d3-8b983be99275"
      },
      "execution_count": null,
      "outputs": [
        {
          "output_type": "stream",
          "name": "stdout",
          "text": [
            "Original list: ['1', '2', '3']\n",
            "List after type casting: [1, 2, 3]\n"
          ]
        }
      ]
    },
    {
      "cell_type": "markdown",
      "source": [
        "11. Check if a number is positive, negative, or zero"
      ],
      "metadata": {
        "id": "KjbAfccim43_"
      }
    },
    {
      "cell_type": "code",
      "source": [
        "num = 10\n",
        "\n",
        "if num > 0:\n",
        "    print(\"Positive number\")\n",
        "elif num < 0:\n",
        "    print(\"Negative number\")\n",
        "else:\n",
        "    print(\"Zero\")\n"
      ],
      "metadata": {
        "colab": {
          "base_uri": "https://localhost:8080/"
        },
        "id": "MumalwJOm-rC",
        "outputId": "7cdb7653-1ea5-43ea-81cb-2abd6d695782"
      },
      "execution_count": null,
      "outputs": [
        {
          "output_type": "stream",
          "name": "stdout",
          "text": [
            "Positive number\n"
          ]
        }
      ]
    },
    {
      "cell_type": "markdown",
      "source": [
        "12. For loop to print numbers 1 to 10"
      ],
      "metadata": {
        "id": "XSXhghPfnMvB"
      }
    },
    {
      "cell_type": "code",
      "source": [
        "for i in range(1, 11):\n",
        "    print(i)\n"
      ],
      "metadata": {
        "colab": {
          "base_uri": "https://localhost:8080/"
        },
        "id": "xGXWJyAhnU_1",
        "outputId": "1d9e3190-e102-461b-c10b-43858c0cc77d"
      },
      "execution_count": null,
      "outputs": [
        {
          "output_type": "stream",
          "name": "stdout",
          "text": [
            "1\n",
            "2\n",
            "3\n",
            "4\n",
            "5\n",
            "6\n",
            "7\n",
            "8\n",
            "9\n",
            "10\n"
          ]
        }
      ]
    },
    {
      "cell_type": "markdown",
      "source": [
        "13. Sum of all even numbers between 1 and 50"
      ],
      "metadata": {
        "id": "Rgn4_lLanbmc"
      }
    },
    {
      "cell_type": "code",
      "source": [
        "even_sum = 0\n",
        "for i in range(1, 51):\n",
        "    if i % 2 == 0:\n",
        "        even_sum += i\n",
        "print(\"Sum of even numbers between 1 and 50:\", even_sum)\n"
      ],
      "metadata": {
        "colab": {
          "base_uri": "https://localhost:8080/"
        },
        "id": "T_-FJYcunjEg",
        "outputId": "28555002-f6bd-4169-d5da-7a7db7c748a8"
      },
      "execution_count": null,
      "outputs": [
        {
          "output_type": "stream",
          "name": "stdout",
          "text": [
            "Sum of even numbers between 1 and 50: 650\n"
          ]
        }
      ]
    },
    {
      "cell_type": "markdown",
      "source": [
        "14. Reverse a string using a while loop"
      ],
      "metadata": {
        "id": "mZYw-etdnxJV"
      }
    },
    {
      "cell_type": "code",
      "source": [
        "s = \"10\"\n",
        "reversed_s = \"\"\n",
        "index = len(s) - 1\n",
        "\n",
        "while index >= 0:\n",
        "    reversed_s += s[index]\n",
        "    index -= 1\n",
        "\n",
        "print(\"Reversed string:\", reversed_s)\n"
      ],
      "metadata": {
        "colab": {
          "base_uri": "https://localhost:8080/"
        },
        "id": "N3XtIJIvoB6z",
        "outputId": "11e5a9b2-8169-4a9b-dc35-0531f1fd1f3a"
      },
      "execution_count": null,
      "outputs": [
        {
          "output_type": "stream",
          "name": "stdout",
          "text": [
            "Reversed string: 01\n"
          ]
        }
      ]
    },
    {
      "cell_type": "markdown",
      "source": [
        "15. Factorial using a while loop"
      ],
      "metadata": {
        "id": "E3wvFyi0oMRN"
      }
    },
    {
      "cell_type": "code",
      "source": [
        "num = 5\n",
        "factorial = 1\n",
        "i = 1\n",
        "\n",
        "while i <= num:\n",
        "    factorial *= i\n",
        "    i += 1\n",
        "\n",
        "print(f\"Factorial of {num} is {factorial}\")\n"
      ],
      "metadata": {
        "colab": {
          "base_uri": "https://localhost:8080/"
        },
        "id": "sNoB1qyyoO8H",
        "outputId": "247efcc0-b51e-42a3-eed9-c463917aa82e"
      },
      "execution_count": null,
      "outputs": [
        {
          "output_type": "stream",
          "name": "stdout",
          "text": [
            "Factorial of 5 is 120\n"
          ]
        }
      ]
    }
  ]
}